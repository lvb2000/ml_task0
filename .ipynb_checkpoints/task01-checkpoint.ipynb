{
 "cells": [
  {
   "cell_type": "code",
   "execution_count": 3,
   "id": "0f3e74bc",
   "metadata": {},
   "outputs": [],
   "source": [
    "import pandas as pd\n",
    "import numpy as np\n",
    "from sklearn.metrics import mean_squared_error"
   ]
  },
  {
   "cell_type": "markdown",
   "id": "e051800b",
   "metadata": {},
   "source": [
    "## include data set"
   ]
  },
  {
   "cell_type": "code",
   "execution_count": 4,
   "id": "e3e0e886",
   "metadata": {},
   "outputs": [
    {
     "name": "stdout",
     "output_type": "stream",
     "text": [
      "        Id           y           x1           x2           x3           x4  \\\n",
      "0        0  738.023171  1764.052346   400.157208   978.737984  2240.893199   \n",
      "1        1  400.646015   144.043571  1454.273507   761.037725   121.675016   \n",
      "2        2  189.900156 -2552.989816   653.618595   864.436199  -742.165020   \n",
      "3        3  -78.399449   154.947426   378.162520  -887.785748 -1980.796468   \n",
      "4        4 -547.373531 -1048.552965 -1420.017937 -1706.270191  1950.775395   \n",
      "...    ...         ...          ...          ...          ...          ...   \n",
      "9995  9995 -199.976500   -30.453041  1082.680684  -530.579767   602.366643   \n",
      "9996  9996   39.584572  2520.830358  -124.883939    18.067992  -998.622811   \n",
      "9997  9997   61.176538  -545.704959  1696.765630  -508.186053     3.620563   \n",
      "9998  9998 -202.136489  -367.787118  -568.357801  -721.247794   198.279702   \n",
      "9999  9999 -289.218996   428.570549  -164.999054   864.962658  -647.662456   \n",
      "\n",
      "               x5           x6           x7           x8           x9  \\\n",
      "0     1867.557990  -977.277880   950.088418  -151.357208  -103.218852   \n",
      "1      443.863233   333.674327  1494.079073  -205.158264   313.067702   \n",
      "2     2269.754624 -1454.365675    45.758517  -187.183850  1532.779214   \n",
      "3     -347.912149   156.348969  1230.290681  1202.379849  -387.326817   \n",
      "4     -509.652182  -438.074302 -1252.795360   777.490356 -1613.897848   \n",
      "...           ...          ...          ...          ...          ...   \n",
      "9995 -2138.290628   -56.632352  1166.444325  -772.096264  -908.987980   \n",
      "9996 -1262.733524  -565.107007  -455.238199   555.726945   994.368197   \n",
      "9997 -1018.514516   251.561864  -338.181817  1014.142886  -582.528063   \n",
      "9998  -217.422041   914.756550   443.756638  -306.203642  -949.055902   \n",
      "9999   720.057730  -337.714761 -2028.548436   726.181981 -1167.830521   \n",
      "\n",
      "              x10  \n",
      "0      410.598502  \n",
      "1     -854.095739  \n",
      "2     1469.358770  \n",
      "3     -302.302751  \n",
      "4     -212.740280  \n",
      "...           ...  \n",
      "9995  -414.216625  \n",
      "9996  -286.562290  \n",
      "9997   638.789847  \n",
      "9998  -448.083485  \n",
      "9999 -1285.207648  \n",
      "\n",
      "[10000 rows x 12 columns]\n"
     ]
    }
   ],
   "source": [
    "train = pd.read_csv('train.csv')\n",
    "print(train)"
   ]
  },
  {
   "cell_type": "markdown",
   "id": "b0d9aea0",
   "metadata": {},
   "source": [
    "## convert datafram to numpy "
   ]
  },
  {
   "cell_type": "code",
   "execution_count": 5,
   "id": "6998aec2",
   "metadata": {},
   "outputs": [
    {
     "data": {
      "text/plain": [
       "array([[ 9.99900000e+03, -2.89218996e+02,  4.28570549e+02, ...,\n",
       "         7.26181981e+02, -1.16783052e+03, -1.28520765e+03],\n",
       "       [ 9.99800000e+03, -2.02136489e+02, -3.67787118e+02, ...,\n",
       "        -3.06203642e+02, -9.49055902e+02, -4.48083485e+02],\n",
       "       [ 9.99700000e+03,  6.11765381e+01, -5.45704959e+02, ...,\n",
       "         1.01414289e+03, -5.82528063e+02,  6.38789847e+02],\n",
       "       ...,\n",
       "       [ 5.00000000e+00, -2.42792588e+02, -8.95466561e+02, ...,\n",
       "         3.02471898e+02, -6.34322094e+02, -3.62741166e+02],\n",
       "       [ 4.00000000e+00, -5.47373531e+02, -1.04855297e+03, ...,\n",
       "         7.77490356e+02, -1.61389785e+03, -2.12740280e+02],\n",
       "       [ 3.00000000e+00, -7.83994489e+01,  1.54947426e+02, ...,\n",
       "         1.20237985e+03, -3.87326817e+02, -3.02302751e+02]])"
      ]
     },
     "execution_count": 5,
     "metadata": {},
     "output_type": "execute_result"
    }
   ],
   "source": [
    "y_df=train.y\n",
    "y= y_df.to_numpy()\n",
    "X=train.to_numpy()[:2:-1]\n",
    "X"
   ]
  },
  {
   "cell_type": "markdown",
   "id": "13220e38",
   "metadata": {},
   "source": [
    "## closed form solution"
   ]
  },
  {
   "cell_type": "code",
   "execution_count": 41,
   "id": "05f43147",
   "metadata": {},
   "outputs": [
    {
     "ename": "ValueError",
     "evalue": "operands could not be broadcast together with shapes (10,10000) (10000,10) ",
     "output_type": "error",
     "traceback": [
      "\u001b[0;31m---------------------------------------------------------------------------\u001b[0m",
      "\u001b[0;31mValueError\u001b[0m                                Traceback (most recent call last)",
      "\u001b[0;32m<ipython-input-41-855d631b7a4c>\u001b[0m in \u001b[0;36m<module>\u001b[0;34m\u001b[0m\n\u001b[1;32m      1\u001b[0m \u001b[0mX_T\u001b[0m\u001b[0;34m=\u001b[0m\u001b[0mnp\u001b[0m\u001b[0;34m.\u001b[0m\u001b[0mtranspose\u001b[0m\u001b[0;34m(\u001b[0m\u001b[0mX\u001b[0m\u001b[0;34m)\u001b[0m\u001b[0;34m\u001b[0m\u001b[0;34m\u001b[0m\u001b[0m\n\u001b[0;32m----> 2\u001b[0;31m \u001b[0mw\u001b[0m\u001b[0;34m=\u001b[0m\u001b[0mnp\u001b[0m\u001b[0;34m.\u001b[0m\u001b[0mlinalg\u001b[0m\u001b[0;34m.\u001b[0m\u001b[0minv\u001b[0m\u001b[0;34m(\u001b[0m\u001b[0mX_T\u001b[0m\u001b[0;34m*\u001b[0m\u001b[0mX\u001b[0m\u001b[0;34m)\u001b[0m\u001b[0;34m\u001b[0m\u001b[0;34m\u001b[0m\u001b[0m\n\u001b[0m",
      "\u001b[0;31mValueError\u001b[0m: operands could not be broadcast together with shapes (10,10000) (10000,10) "
     ]
    }
   ],
   "source": [
    "X_T=np.transpose(X)\n",
    "w=np.linalg.inv(X_T*X)"
   ]
  },
  {
   "cell_type": "code",
   "execution_count": null,
   "id": "0d265c85",
   "metadata": {},
   "outputs": [],
   "source": []
  }
 ],
 "metadata": {
  "kernelspec": {
   "display_name": "Python 3",
   "language": "python",
   "name": "python3"
  },
  "language_info": {
   "codemirror_mode": {
    "name": "ipython",
    "version": 3
   },
   "file_extension": ".py",
   "mimetype": "text/x-python",
   "name": "python",
   "nbconvert_exporter": "python",
   "pygments_lexer": "ipython3",
   "version": "3.8.8"
  }
 },
 "nbformat": 4,
 "nbformat_minor": 5
}
